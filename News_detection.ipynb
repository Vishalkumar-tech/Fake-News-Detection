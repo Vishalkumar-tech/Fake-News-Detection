{
 "cells": [
  {
   "cell_type": "code",
   "execution_count": 3,
   "id": "997221d8-8635-45fb-b0f1-f1a393fdc2a6",
   "metadata": {},
   "outputs": [],
   "source": [
    "import pandas as pd\n",
    "from sklearn.model_selection import train_test_split\n",
    "from sklearn.feature_extraction.text import TfidfVectorizer\n",
    "from sklearn.naive_bayes import MultinomialNB\n",
    "from sklearn.pipeline import make_pipeline\n",
    "from sklearn.metrics import accuracy_score, classification_report"
   ]
  },
  {
   "cell_type": "code",
   "execution_count": 7,
   "id": "c21ed4eb-2fca-47cc-b20a-e808b077719b",
   "metadata": {},
   "outputs": [],
   "source": [
    "true_df = pd.read_csv(r\"C:\\Users\\Vishal\\OneDrive\\Desktop\\mini project\\True.csv\")\n",
    "true_df['label'] = 0  # Add a label column for true news\n",
    "\n",
    "# Load fake news dataset\n",
    "fake_df = pd.read_csv(r\"C:\\Users\\Vishal\\OneDrive\\Desktop\\mini project\\Fake.csv\")\n",
    "fake_df['label'] = 1  # Add a label column for fake news"
   ]
  },
  {
   "cell_type": "code",
   "execution_count": 8,
   "id": "0b97498c-fa1f-4f9e-964d-167d869fc0a1",
   "metadata": {},
   "outputs": [],
   "source": [
    "# Combine the datasets\n",
    "df = pd.concat([true_df, fake_df], ignore_index=True)"
   ]
  },
  {
   "cell_type": "code",
   "execution_count": 9,
   "id": "29ec6c5d-0362-4ff6-84d1-b6dba90eb8f8",
   "metadata": {},
   "outputs": [],
   "source": [
    "# Split the data into training and testing sets\n",
    "X_train, X_test, y_train, y_test = train_test_split(df['text'], df['label'], test_size=0.2, random_state=42)"
   ]
  },
  {
   "cell_type": "code",
   "execution_count": 10,
   "id": "6ab5344b-c1a8-440d-911f-75a7d749af99",
   "metadata": {},
   "outputs": [
    {
     "data": {
      "text/plain": [
       "Pipeline(steps=[('tfidfvectorizer', TfidfVectorizer()),\n",
       "                ('multinomialnb', MultinomialNB())])"
      ]
     },
     "execution_count": 10,
     "metadata": {},
     "output_type": "execute_result"
    }
   ],
   "source": [
    "model = make_pipeline(TfidfVectorizer(), MultinomialNB())\n",
    "model.fit(X_train, y_train)"
   ]
  },
  {
   "cell_type": "code",
   "execution_count": 12,
   "id": "84dff55f-77a5-4a90-aba2-c938e5aefdd8",
   "metadata": {},
   "outputs": [],
   "source": [
    "# Make predictions on the test set\n",
    "predictions = model.predict(X_test)\n",
    "\n",
    "# Evaluate the model\n",
    "accuracy = accuracy_score(y_test, predictions)\n",
    "classification_report_result = classification_report(y_test, predictions)"
   ]
  },
  {
   "cell_type": "code",
   "execution_count": 13,
   "id": "847b6bd1-9195-4255-8883-3f5f1459f62f",
   "metadata": {},
   "outputs": [
    {
     "name": "stdout",
     "output_type": "stream",
     "text": [
      "Accuracy: 0.9387527839643652\n",
      "Classification Report:\n",
      "               precision    recall  f1-score   support\n",
      "\n",
      "           0       0.94      0.93      0.94      4330\n",
      "           1       0.93      0.95      0.94      4650\n",
      "\n",
      "    accuracy                           0.94      8980\n",
      "   macro avg       0.94      0.94      0.94      8980\n",
      "weighted avg       0.94      0.94      0.94      8980\n",
      "\n"
     ]
    }
   ],
   "source": [
    "# Display the result\n",
    "print(f'Accuracy: {accuracy}')\n",
    "print('Classification Report:\\n', classification_report_result)"
   ]
  },
  {
   "cell_type": "code",
   "execution_count": null,
   "id": "1266f5be-5048-485c-a3a4-776262386b15",
   "metadata": {},
   "outputs": [],
   "source": [
    "user_input = input(\"Enter a news article: \")\n",
    "\n",
    "# Make a prediction\n",
    "prediction = model.predict([user_input])\n",
    "\n",
    "# Display the result\n",
    "if prediction[0] == 0:\n",
    "    print(\"The news is likely to be true.\")\n",
    "else:\n",
    "    print(\"The news is likely to be fake.\")"
   ]
  },
  {
   "cell_type": "code",
   "execution_count": null,
   "id": "78fce236-fbbb-42b1-90a9-73a857e80af2",
   "metadata": {},
   "outputs": [],
   "source": []
  }
 ],
 "metadata": {
  "kernelspec": {
   "display_name": "Python [conda env:base] *",
   "language": "python",
   "name": "conda-base-py"
  },
  "language_info": {
   "codemirror_mode": {
    "name": "ipython",
    "version": 3
   },
   "file_extension": ".py",
   "mimetype": "text/x-python",
   "name": "python",
   "nbconvert_exporter": "python",
   "pygments_lexer": "ipython3",
   "version": "3.9.21"
  }
 },
 "nbformat": 4,
 "nbformat_minor": 5
}
